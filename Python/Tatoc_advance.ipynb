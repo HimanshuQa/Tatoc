{
 "cells": [
  {
   "cell_type": "code",
   "execution_count": 1,
   "metadata": {},
   "outputs": [],
   "source": [
    "from   selenium import webdriver\n",
    "from   selenium.common.exceptions import TimeoutException\n",
    "from selenium.webdriver import ActionChains\n",
    "import sys\n",
    "import time\n",
    "import MySQLdb\n",
    "import requests\n",
    "import os\n",
    "import glob\n",
    "\n"
   ]
  },
  {
   "cell_type": "code",
   "execution_count": 9,
   "metadata": {},
   "outputs": [],
   "source": [
    "driver = webdriver.Chrome(r'C:\\Users\\HIM\\Desktop\\chromedriver_win32\\chromedriver') #driver load\n",
    "driver.get('http://10.0.1.86/tatoc/advanced/hover/menu') #open website\n",
    "main_menu = driver.find_element_by_css_selector('body > div > div.page > div.menutop.m2 > span.menutitle') #dropdown menu\n",
    "sub = driver.find_element_by_css_selector('body > div > div.page > div.menutop.m2 > span:nth-child(5)') #next button\n",
    "ActionChains(driver).move_to_element(main_menu).click(sub).perform() #perform the action by chaining\n",
    "\n"
   ]
  },
  {
   "cell_type": "markdown",
   "metadata": {},
   "source": [
    "### Database query"
   ]
  },
  {
   "cell_type": "code",
   "execution_count": 132,
   "metadata": {},
   "outputs": [],
   "source": [
    "driver = webdriver.Chrome(r'C:\\Users\\HIM\\Desktop\\chromedriver_win32\\chromedriver') #driver load\n",
    "driver.get('http://10.0.1.86/tatoc/advanced/query/gate');\n",
    "sym = driver.find_element_by_id('symboldisplay').text #get symbol\n",
    "\n",
    "myConnection = MySQLdb.connect( host=\"10.0.1.86\", user=\"tatocuser\", passwd=\"tatoc01\", db=\"tatoc\" ) #make connection to DB\n",
    "cur = myConnection.cursor()\n",
    "cur.execute( \"Select id from identity where symbol='{0}'\".format(sym)) #query to get ID matching symbol\n",
    "idd = cur.fetchone() #get id \n",
    "\n",
    "cur.execute( \"SELECT name,passkey FROM credentials where id='{0}'\".format(idd[0]) ) #query to get name and passkey for the ID\n",
    "name,key = cur.fetchone() #get name and passkey\n",
    "\n",
    "driver.find_element_by_id('name').send_keys(name) \n",
    "driver.find_element_by_id('passkey').send_keys(key)\n",
    "time.sleep(2)\n",
    "\n",
    "driver.find_element_by_id('submit').click()"
   ]
  },
  {
   "cell_type": "markdown",
   "metadata": {},
   "source": [
    "### Rest"
   ]
  },
  {
   "cell_type": "code",
   "execution_count": 3,
   "metadata": {
    "scrolled": true
   },
   "outputs": [],
   "source": [
    "# driver.get('http://10.0.1.86/tatoc/advanced/video/player');\n",
    "driver = webdriver.Chrome(r'C:\\Users\\HIM\\Desktop\\chromedriver_win32\\chromedriver') #driver load\n",
    "\n",
    "driver.get('http://10.0.1.86/tatoc/advanced/rest');\n",
    "\n",
    "idd = driver.find_element_by_id('session_id').text.split(': ')[1]  #get session ID\n",
    "response = requests.get('http://10.0.1.86/tatoc/advanced/rest/service/token/{0}'.format(idd)) #send GET request with sessio ID\n",
    "data = response.json() # storing response\n",
    "\n",
    "#making to dictionary for POST request\n",
    "d = {\n",
    "    'id':idd,\n",
    "    'signature':data['token'],\n",
    "    'allow_access':1\n",
    "}\n",
    "\n",
    "r = requests.post('http://10.0.1.86/tatoc/advanced/rest/service/register/',d) #send POST request\n",
    "driver.find_element_by_css_selector('a').click()\n"
   ]
  },
  {
   "cell_type": "markdown",
   "metadata": {},
   "source": [
    "### Downloading"
   ]
  },
  {
   "cell_type": "code",
   "execution_count": 7,
   "metadata": {},
   "outputs": [],
   "source": [
    "download_dir = r\"C:\\Users\\HIM\\Desktop\\chromedriver_win32\"\n",
    "chrome_options = webdriver.ChromeOptions() #settings for chrome\n",
    "\n",
    "#making dictionary for chrome options\n",
    "preferences = {\"download.default_directory\": download_dir ,\n",
    "                      \"directory_upgrade\": True,\n",
    "                      \"safebrowsing.enabled\": True }\n",
    "\n",
    "chrome_options.add_experimental_option(\"prefs\", preferences)\n",
    "driver = webdriver.Chrome(r'C:\\Users\\HIM\\Desktop\\chromedriver_win32\\chromedriver',chrome_options=chrome_options)#launching chrome with set prefences\n",
    "\n",
    "driver.get('http://10.0.1.86/tatoc/advanced/file/handle')\n",
    "driver.find_element_by_css_selector('a').click()\n",
    "\n",
    "while len(glob.glob(download_dir+'/*.dat')) == 0: #keep cheking until the file is downloaded\n",
    "    time.sleep(1)\n",
    "\n",
    "files = glob.glob(download_dir+'/*') #get list of all files available in directory\n",
    "files.sort(key=os.path.getmtime) #sort them by Time\n",
    "latest_file = files[-1] #get the latest one from all files\n",
    "\n",
    "f = open(latest_file,'r') #read file\n",
    "signature = f.readlines()[2].split(': ')[1] #store signatures\n",
    "f.close() \n",
    "\n",
    "time.sleep(1) #to have a look\n",
    "\n",
    "driver.find_element_by_id('signature').send_keys(signature)\n",
    "driver.find_element_by_class_name('submit').click()"
   ]
  },
  {
   "cell_type": "code",
   "execution_count": null,
   "metadata": {},
   "outputs": [],
   "source": []
  }
 ],
 "metadata": {
  "kernelspec": {
   "display_name": "Python 3",
   "language": "python",
   "name": "python3"
  },
  "language_info": {
   "codemirror_mode": {
    "name": "ipython",
    "version": 3
   },
   "file_extension": ".py",
   "mimetype": "text/x-python",
   "name": "python",
   "nbconvert_exporter": "python",
   "pygments_lexer": "ipython3",
   "version": "3.6.5"
  }
 },
 "nbformat": 4,
 "nbformat_minor": 2
}
